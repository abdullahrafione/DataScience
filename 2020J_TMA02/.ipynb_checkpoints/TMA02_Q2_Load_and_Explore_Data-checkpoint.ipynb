{
 "cells": [
  {
   "cell_type": "markdown",
   "metadata": {},
   "source": [
    "## Index of Multiple Deprivation etc - data exploration\n",
    "\n",
    "\n",
    "\n",
    "The data file has been copied and modified slightly to make this easier to work with and is called example.csv. This is just an example investigation and you are welcome to explore and use any of the data files provided. \n",
    "\n",
    "\n"
   ]
  },
  {
   "cell_type": "code",
   "execution_count": null,
   "metadata": {},
   "outputs": [],
   "source": [
    "!ls"
   ]
  },
  {
   "cell_type": "code",
   "execution_count": null,
   "metadata": {},
   "outputs": [],
   "source": [
    "!ls '../2020J_TMA02_data/Deprivation_Index'"
   ]
  },
  {
   "cell_type": "code",
   "execution_count": null,
   "metadata": {},
   "outputs": [],
   "source": [
    "!pwd"
   ]
  },
  {
   "cell_type": "code",
   "execution_count": null,
   "metadata": {},
   "outputs": [],
   "source": [
    "import pandas as pd\n",
    "\n",
    "# furl = \"Alldata2.csv\"\n",
    "furl = '../2020J_TMA02_data/Deprivation_Index/example.csv'\n",
    "\n",
    "df = pd.read_csv(furl)\n",
    "df.head()"
   ]
  },
  {
   "cell_type": "code",
   "execution_count": null,
   "metadata": {},
   "outputs": [],
   "source": [
    "# Preview the values in one of the data files\n",
    "!tail '../2020J_TMA02_data/Deprivation_Index/example.csv'"
   ]
  },
  {
   "cell_type": "markdown",
   "metadata": {},
   "source": [
    "This file that has been loaded has a number of columns. It is worth seeing what type of columns are available for the data\n",
    "\n"
   ]
  },
  {
   "cell_type": "code",
   "execution_count": null,
   "metadata": {},
   "outputs": [],
   "source": [
    "list(df.columns)"
   ]
  },
  {
   "cell_type": "code",
   "execution_count": null,
   "metadata": {},
   "outputs": [],
   "source": [
    "ListofNames = df['LocalAuthorityDistrictname2013'].unique()\n",
    "ListofNames"
   ]
  },
  {
   "cell_type": "markdown",
   "metadata": {},
   "source": [
    "the list can be used to find the areas that you are interested in "
   ]
  },
  {
   "cell_type": "code",
   "execution_count": null,
   "metadata": {},
   "outputs": [],
   "source": [
    "df[df.LocalAuthorityDistrictname2013 == 'Bradford'].head()"
   ]
  },
  {
   "cell_type": "markdown",
   "metadata": {},
   "source": [
    "The local authority district code might be interesting later or the area code."
   ]
  },
  {
   "cell_type": "code",
   "execution_count": null,
   "metadata": {},
   "outputs": [],
   "source": [
    "df['LocalAuthorityDistrictcode2013'].unique()"
   ]
  },
  {
   "cell_type": "markdown",
   "metadata": {},
   "source": [
    "## Once you have an area of interest you might want to filter on that area. Here is an example using Bradford"
   ]
  },
  {
   "cell_type": "code",
   "execution_count": null,
   "metadata": {},
   "outputs": [],
   "source": [
    "df.query('LocalAuthorityDistrictname2013 ==\"Bradford\"')"
   ]
  },
  {
   "cell_type": "markdown",
   "metadata": {},
   "source": [
    "There are over 57 columns - it would be good to have a list of what type of data is being held - remember list(df.columns)"
   ]
  },
  {
   "cell_type": "code",
   "execution_count": null,
   "metadata": {},
   "outputs": [],
   "source": [
    "list(df.columns)"
   ]
  },
  {
   "cell_type": "markdown",
   "metadata": {},
   "source": [
    "The reports provided explain about how the numerical values - how they are calculated and their significance. \n",
    "The lower the value e.g.  the number 1 is the most deprived in the Index of Multiple Deprivation factors.\n",
    "\n",
    "This example looks at extracting for Bradford the those areas with a value of 1\n"
   ]
  },
  {
   "cell_type": "code",
   "execution_count": null,
   "metadata": {},
   "outputs": [],
   "source": [
    "df.query('LocalAuthorityDistrictname2013 ==\"Bradford\" & IndexofMultipleDeprivationDecile == 1')"
   ]
  },
  {
   "cell_type": "markdown",
   "metadata": {},
   "source": [
    "Let's look a bit more the data in general - linked to the Index of Multiple Deprivation is the rank value. "
   ]
  },
  {
   "cell_type": "code",
   "execution_count": null,
   "metadata": {},
   "outputs": [],
   "source": [
    "df_wide = df.pivot(index= 'IndexofMultipleDeprivationDecile', columns='LSOAname2011', values='IndexofMultipleDeprivationRank')\n",
    "df_wide.head()"
   ]
  },
  {
   "cell_type": "markdown",
   "metadata": {},
   "source": [
    "A quick glance (although a better filter and table could be used here) - shows that areas e.g. Adur and York rank value above 4000 puts in the deprivation value above 2 - this is just glancing at the data. Other filters and queries can be developed to check this. Data could be organised to investigate to see for example which factors might at the most deprived level are impacting the chosen area.\n",
    "\n",
    "If we review the document The English Index of Multiple Deprivation\n",
    "(IMD) 2015 – Guidance\n",
    "\n",
    "see page 2 \"Small area X is ranked 5,000 out of 32,844 small-areas in England, where 1 is the most deprived. This means that small area X is amongst the 20 per cent most deprived small areas in the country.\"\n",
    "\n",
    "See page 10 of The English Indices of Deprivation 2015 – Frequently Asked Questions (FAQs) to see the table of ranking"
   ]
  },
  {
   "cell_type": "markdown",
   "metadata": {},
   "source": [
    "Quick look at the data to see if anything interesting "
   ]
  },
  {
   "cell_type": "code",
   "execution_count": null,
   "metadata": {},
   "outputs": [],
   "source": [
    "df_wide.describe()"
   ]
  },
  {
   "cell_type": "markdown",
   "metadata": {},
   "source": [
    "Let's focus on Bradford filter for IMD of 1 and 2"
   ]
  },
  {
   "cell_type": "code",
   "execution_count": null,
   "metadata": {},
   "outputs": [],
   "source": [
    "tmp = df.query('LocalAuthorityDistrictname2013 ==\"Bradford\" & IndexofMultipleDeprivationDecile < 3')\n",
    "tmp1_wide = tmp.pivot(index= 'IndexofMultipleDeprivationDecile', columns='LSOAname2011', values='IndexofMultipleDeprivationRank')\n",
    "tmp1_wide.head()"
   ]
  },
  {
   "cell_type": "markdown",
   "metadata": {},
   "source": [
    "From initial analysis of the IMD of there are 131 areas in Bradford that fall into the IMD of 1 and 2. We have over a number of columns that would be interesting to investigate."
   ]
  },
  {
   "cell_type": "code",
   "execution_count": null,
   "metadata": {},
   "outputs": [],
   "source": [
    "list(df.columns)"
   ]
  },
  {
   "cell_type": "markdown",
   "metadata": {},
   "source": [
    "You might want to explore specific data areas for an area. \n",
    "Filter the data further. Some examples are provided - this you have already seen - slightly different IMD parameter"
   ]
  },
  {
   "cell_type": "code",
   "execution_count": null,
   "metadata": {},
   "outputs": [],
   "source": [
    "df.query('LocalAuthorityDistrictname2013 ==\"Bradford\" & IndexofMultipleDeprivationDecile > 3')"
   ]
  },
  {
   "cell_type": "markdown",
   "metadata": {},
   "source": [
    "let's look at the overall data for Bradford"
   ]
  },
  {
   "cell_type": "code",
   "execution_count": null,
   "metadata": {},
   "outputs": [],
   "source": [
    "tmp2 = df.query('LocalAuthorityDistrictname2013 ==\"Bradford\"')\n",
    "tmp3_wide = tmp2.pivot(index= 'LSOAname2011', columns='IndexofMultipleDeprivationDecile', values='IndexofMultipleDeprivationRank')\n",
    "tmp3_wide.head(300)"
   ]
  },
  {
   "cell_type": "code",
   "execution_count": null,
   "metadata": {},
   "outputs": [],
   "source": [
    "tmp3_wide.describe"
   ]
  },
  {
   "cell_type": "markdown",
   "metadata": {},
   "source": [
    "Filter on more specific data e.g. Education Skills"
   ]
  },
  {
   "cell_type": "code",
   "execution_count": null,
   "metadata": {},
   "outputs": [],
   "source": [
    "tmp3_wide = tmp2.pivot(index= 'LSOAname2011', columns= 'EducationSkillsandTrainingDecile', values='EducationSkillsandTrainingRank ')\n",
    "tmp3_wide.head(50)"
   ]
  },
  {
   "cell_type": "markdown",
   "metadata": {},
   "source": [
    "Data can be filtered, investigated and sumerised on the different columns. After exploring this and areas of interest then the students can start to decide on what aspects to investigate and compare.\n"
   ]
  },
  {
   "cell_type": "markdown",
   "metadata": {},
   "source": [
    "Filter further on skills analysis for those Adults in the most deprived areas of Bradford. e.g. IMD = 1"
   ]
  },
  {
   "cell_type": "code",
   "execution_count": null,
   "metadata": {},
   "outputs": [],
   "source": [
    "tmp2 = df.query('LocalAuthorityDistrictname2013 ==\"Bradford\" & IndexofMultipleDeprivationDecile == 1')\n",
    "tmp3_wide = tmp2.pivot(index= 'LSOAname2011',columns = 'EducationSkillsandTrainingDecile', values='EducationSkillsandTrainingRank ')\n",
    "tmp3_wide.head(101)"
   ]
  },
  {
   "cell_type": "code",
   "execution_count": null,
   "metadata": {},
   "outputs": [],
   "source": []
  }
 ],
 "metadata": {
  "kernelspec": {
   "display_name": "Python",
   "language": "python",
   "name": "conda-env-python-py"
  },
  "language_info": {
   "codemirror_mode": {
    "name": "ipython",
    "version": 3
   },
   "file_extension": ".py",
   "mimetype": "text/x-python",
   "name": "python",
   "nbconvert_exporter": "python",
   "pygments_lexer": "ipython3",
   "version": "3.6.12"
  }
 },
 "nbformat": 4,
 "nbformat_minor": 4
}
