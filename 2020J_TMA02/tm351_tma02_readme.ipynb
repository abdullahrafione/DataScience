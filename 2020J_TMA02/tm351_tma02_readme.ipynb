{
 "cells": [
  {
   "cell_type": "markdown",
   "metadata": {},
   "source": [
    "# Some guidance about the data to be explored for TMA02 and EMA"
   ]
  },
  {
   "cell_type": "markdown",
   "metadata": {},
   "source": [
    "For this TMA, we have provided three datasets in the `2020J_TMA02_data` directory. These can be found in the folders:\n",
    "\n",
    "* `2020J_TMA02_data/census`\n",
    "* `2020J_TMA02_data/Deprivation_Index`\n",
    "* `2020J_TMA02_data/key-stage4`\n",
    "\n",
    "For TMA02 Q2 you will need to explore the deprivation index data in `2020J_TMA02_data/Deprivation_Index`. \n",
    "In Q3 you will need to also explore the Census data in `2020J_TMA02_data/census` and the Educational data (Key stage 4 GCSE results) in `2020J_TMA02_data/key-stage4`."
   ]
  },
  {
   "cell_type": "markdown",
   "metadata": {},
   "source": [
    "## Index of Multiple Deprivation etc - data exploration"
   ]
  },
  {
   "cell_type": "markdown",
   "metadata": {},
   "source": [
    "The data contains the ranks and deciles for the Index of Multiple Deprivation at Lower-layer Super Output Area (LSOA) level. The LSOA with a rank of 1 is the most deprived and the LSOA with a rank of 32,844 is the least deprived. The deciles are calculated by ranking the 32,844 LSOAs in England from most deprived to least deprived and dividing them into 10 equal groups. LSOAs in decile 1 fall within the most deprived 10% of LSOAs nationally and LSOAs in decile 10 fall within the least deprived 10% of LSOAs nationally."
   ]
  },
  {
   "cell_type": "markdown",
   "metadata": {},
   "source": [
    "The *Index of Multiple Deprivation* (IMD) is an overall relative measure of deprivation constructed by combining seven domains of deprivation according to their respective weights, as described below. LSOAs (Lower-layer Super Output Areas) are small areas designed to be of a similar population size, with an average of approximately 1,500 residents or 650 households. There are 32,844 Lower-layer Super Output Areas (LSOAs) in England. They were produced by the Office for National Statistics for the reporting of small area statistics.\n",
    "\n",
    "The domains were combined using the following weights to produce the overall Index of Multiple Deprivation: \n",
    "\n",
    "|Domain  |Weight|\n",
    "|------|-----|\n",
    "|Income Deprivation|22.5%|\n",
    "|Employment Deprivation| 22.5%|\n",
    "|Education, Skills and Training Deprivation| 13.5%|\n",
    "|Health Deprivation and Disability| 13.5%|\n",
    "|Crime |9.3%|\n",
    "|Barriers to Housing and Services|9.3%|\n",
    "|Living Environment Deprivation|9.3%|"
   ]
  },
  {
   "cell_type": "markdown",
   "metadata": {},
   "source": [
    "In addition to the Index of Multiple Deprivation and the seven domain indices, there are two supplementary indices: the *Income Deprivation Affecting Children* Index and the *Income Deprivation Affecting Older People* Index. A range of summary measures are available for higher-level geographies including local authority districts and upper-tier local authorities, local enterprise partnerships, and clinical commissioning groups.\n",
    "\n",
    "The Index of Multiple Deprivation, domain indices and the supplementary indices, together with the higher-level geography summaries, are collectively referred to as the *Indices of Deprivation*."
   ]
  },
  {
   "cell_type": "markdown",
   "metadata": {},
   "source": [
    "## Sources of the data and additional reports"
   ]
  },
  {
   "cell_type": "markdown",
   "metadata": {},
   "source": [
    "The data used in the notebooks for this TMA and that might be used for the EMA is from the following location:\n",
    "\n",
    "www.gov.uk/government/statistics/english-indices-of-deprivation-2015\n",
    "\n",
    "In the `Reports` folder in the zip file are reports that describe how the data has been collated and aggregated to create these indices. \n",
    "\n",
    "As well as the reports on the indices, we have also provided the report for key stage 4 data, which was originally downloaded from:\n",
    "\n",
    "https://www.gov.uk/government/statistics/revised-gcse-and-equivalent-results-in-england-2014-to-2015\n",
    "\n",
    "Information on attainment has been broken down by the following pupil characteristics: ethnicity, English as an additional language (EAL), free school meal eligibility (FSM), disadvantage, and special educational needs. These characteristics are broken down further by local authority. The report provides detailed context about the data.\n"
   ]
  },
  {
   "cell_type": "markdown",
   "metadata": {},
   "source": [
    "## Getting started"
   ]
  },
  {
   "cell_type": "markdown",
   "metadata": {},
   "source": [
    "We have prepared some notebooks which may help you get started and which can be used to explore the deprivation index dataset. \n",
    "\n",
    "The first notebook is called:\n",
    "\n",
    "    TMA02_Q2_Load_and_Explore_Data.ipynb\n",
    "\n",
    "and provides some initial code to load the data and start exploring it.\n",
    "\n",
    "The second notebook is called:\n",
    "\n",
    "    TMA02_Q2_Load_and_Visualise_Data.ipynb\n",
    "    \n",
    "and provides some initial code to load the data and start visualising it.\n"
   ]
  },
  {
   "cell_type": "code",
   "execution_count": null,
   "metadata": {},
   "outputs": [],
   "source": []
  }
 ],
 "metadata": {
  "kernelspec": {
   "display_name": "Python 3",
   "language": "python",
   "name": "python3"
  },
  "language_info": {
   "codemirror_mode": {
    "name": "ipython",
    "version": 3
   },
   "file_extension": ".py",
   "mimetype": "text/x-python",
   "name": "python",
   "nbconvert_exporter": "python",
   "pygments_lexer": "ipython3",
   "version": "3.9.1"
  }
 },
 "nbformat": 4,
 "nbformat_minor": 2
}
